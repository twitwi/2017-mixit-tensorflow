{
 "cells": [
  {
   "cell_type": "code",
   "execution_count": null,
   "metadata": {
    "collapsed": true
   },
   "outputs": [],
   "source": [
    "import numpy as np\n",
    "from matplotlib import pyplot as plt\n",
    "import outils"
   ]
  },
  {
   "cell_type": "code",
   "execution_count": null,
   "metadata": {
    "collapsed": true
   },
   "outputs": [],
   "source": [
    "# Pour forcer le « jupyter notebook » à mettre les graphes dans la page web.\n",
    "%matplotlib inline"
   ]
  },
  {
   "cell_type": "markdown",
   "metadata": {},
   "source": [
    "# Machine Learning : régression\n",
    "\n",
    "- On va charger des données sur des chats (poids, taille du cœur et sexe).\n",
    "- On voudra ensuite trouver le liens entre le poids du chat et la taille du cœur."
   ]
  },
  {
   "cell_type": "code",
   "execution_count": null,
   "metadata": {
    "collapsed": true
   },
   "outputs": [],
   "source": [
    "import pandas as pd"
   ]
  },
  {
   "cell_type": "markdown",
   "metadata": {},
   "source": [
    "- On charge les données à partir d'un fichier CSV et on affiche les premières lignes.\n",
    "- On utilise « pandas » qui permet de manipuler des tableaux type Excel (ou comme les dataframe du langage R)."
   ]
  },
  {
   "cell_type": "code",
   "execution_count": null,
   "metadata": {
    "collapsed": false
   },
   "outputs": [],
   "source": [
    "dataframe = pd.read_csv('cats.csv')\n",
    "dataframe.head() # afficher les premières lignes"
   ]
  },
  {
   "cell_type": "code",
   "execution_count": null,
   "metadata": {
    "collapsed": false
   },
   "outputs": [],
   "source": [
    "# récupérer certains colonnes\n",
    "corps = dataframe['Bwt']\n",
    "coeur = dataframe['Hwt']\n",
    "classe = dataframe['Sex']"
   ]
  },
  {
   "cell_type": "code",
   "execution_count": null,
   "metadata": {
    "collapsed": false
   },
   "outputs": [],
   "source": [
    "# afficher, par sexe, un nuage de points avec une couleur\n",
    "for cla,col in [['M', 'red'], ['F', 'blue']]:\n",
    "    plt.scatter(corps[classe==cla], coeur[classe==cla], marker=\"x\", c=col)\n",
    "\n",
    "plt.xlabel('Poids')\n",
    "plt.ylabel('Cœur')\n",
    "plt.show()"
   ]
  },
  {
   "cell_type": "markdown",
   "metadata": {},
   "source": [
    "- nous allons faire une régression\n",
    "- en particulier, nous allons trouver les paramètres a et b dans « taille cœur = a . poids + b »\n",
    "- nous allons utiliser la bibliothèque scikit learn (sklearn)"
   ]
  },
  {
   "cell_type": "code",
   "execution_count": null,
   "metadata": {
    "collapsed": true
   },
   "outputs": [],
   "source": [
    "from sklearn.linear_model import LinearRegression"
   ]
  },
  {
   "cell_type": "code",
   "execution_count": null,
   "metadata": {
    "collapsed": false
   },
   "outputs": [],
   "source": [
    "# créer un modèle\n",
    "model_lineaire = LinearRegression()\n",
    "# reformater les données en 2D (dimension 1 = les exemples, dimensions 2 = les caractéristiques)\n",
    "Xcorps = corps.reshape((-1,1))\n",
    "# apprendre le modèle\n",
    "model_lineaire.fit(Xcorps, coeur)\n",
    "\n",
    "# afficher les coefficients appris\n",
    "print(model_lineaire.coef_, model_lineaire.intercept_)"
   ]
  },
  {
   "cell_type": "code",
   "execution_count": null,
   "metadata": {
    "collapsed": false
   },
   "outputs": [],
   "source": [
    "# afficher la droite apprise par dessus les points\n",
    "\n",
    "for cla,col in [['M', 'red'], ['F', 'blue']]:\n",
    "    plt.scatter(corps[classe==cla], coeur[classe==cla], marker=\"x\", c=col)\n",
    "\n",
    "plt.xlabel('Poids')\n",
    "plt.ylabel('Cœur')\n",
    "\n",
    "# droite de regression\n",
    "xtest = np.array([1.5, 3, 4.5]).reshape((-1, 1))\n",
    "plt.plot(xtest, model_lineaire.predict(xtest), c='green')\n",
    "plt.show()"
   ]
  },
  {
   "cell_type": "markdown",
   "metadata": {},
   "source": [
    "- par curiosité, nous allons faire une regression par sexe"
   ]
  },
  {
   "cell_type": "code",
   "execution_count": null,
   "metadata": {
    "collapsed": false
   },
   "outputs": [],
   "source": [
    "for cla,col in [['M', 'red'], ['F', 'blue']]:\n",
    "    plt.scatter(corps[classe==cla], coeur[classe==cla], marker=\"x\", c=col)\n",
    "    # droite de regression\n",
    "    \n",
    "    model_lineaire = LinearRegression()\n",
    "    Xcorps = corps[classe==cla].reshape((-1,1))\n",
    "    model_lineaire.fit(Xcorps, coeur[classe==cla])\n",
    "    xtest = np.array([1.5, 3, 4.5]).reshape((-1, 1))\n",
    "    plt.plot(xtest, model_lineaire.predict(xtest), c=col)\n",
    "\n",
    "\n",
    "plt.xlabel('Poids')\n",
    "plt.ylabel('Cœur')\n",
    "\n",
    "plt.show()"
   ]
  },
  {
   "cell_type": "markdown",
   "metadata": {},
   "source": [
    "# Machine Learning : classification \n",
    "\n",
    "La classification est similaire à la regression mais on ne va pas vers un nombre mais vers une classe (chien/chat, chiffre 0/1/2, ...).\n",
    "On s'intéresse au final plutôt à trouver des séparateurs, des frontière de décision.\n",
    "Mathématiquement le problème est en fait très proche d'une régression (linéaire)."
   ]
  },
  {
   "cell_type": "markdown",
   "metadata": {},
   "source": [
    "- on va prendre un jeu de données « jouet » avec des images de chiffres (0/1/2)"
   ]
  },
  {
   "cell_type": "code",
   "execution_count": null,
   "metadata": {
    "collapsed": true
   },
   "outputs": [],
   "source": [
    "from sklearn import datasets"
   ]
  },
  {
   "cell_type": "code",
   "execution_count": null,
   "metadata": {
    "collapsed": false
   },
   "outputs": [],
   "source": [
    "# charger les images des nombres 0/1/2\n",
    "data = datasets.load_digits(3)"
   ]
  },
  {
   "cell_type": "code",
   "execution_count": null,
   "metadata": {
    "collapsed": false
   },
   "outputs": [],
   "source": [
    "print(data.target.shape)\n",
    "print(data.target[:15]) # voir les 15 première annotations de classes"
   ]
  },
  {
   "cell_type": "markdown",
   "metadata": {},
   "source": [
    "### QUESTION : quelle est la différence entre data.images et data.data ?"
   ]
  },
  {
   "cell_type": "code",
   "execution_count": null,
   "metadata": {
    "collapsed": true
   },
   "outputs": [],
   "source": [
    "# Zone de code pour expérimenter\n",
    "\n",
    "# aide : quelles sont leurs dimensions (shape) respectives ?"
   ]
  },
  {
   "cell_type": "markdown",
   "metadata": {},
   "source": [
    "### RÉPONSE : …\n",
    "\n",
    "-----"
   ]
  },
  {
   "cell_type": "markdown",
   "metadata": {},
   "source": [
    "- on affiche quelques images"
   ]
  },
  {
   "cell_type": "code",
   "execution_count": null,
   "metadata": {
    "collapsed": false
   },
   "outputs": [],
   "source": [
    "for i,j in enumerate([0, 5, 15]):\n",
    "    plt.subplot(1, 3, i+1)\n",
    "    plt.imshow(data.images[j], cmap='gray', interpolation='nearest')\n",
    "plt.show()"
   ]
  },
  {
   "cell_type": "markdown",
   "metadata": {},
   "source": [
    "- on va selectionner deux pixels parmis les 64\n",
    "- on va ajouter un peu de bruit sur les valeurs pour l'affichage (il n'y a que 16 niveaux de gris)\n",
    "- on appelle X les données d'entrée\n",
    "- on appelle Y les étiquetes (de sortie)"
   ]
  },
  {
   "cell_type": "code",
   "execution_count": null,
   "metadata": {
    "collapsed": false
   },
   "outputs": [],
   "source": [
    "p1 = 28  # irdice du premier pixel d'intérêt\n",
    "p2 = 10  # indice du second\n",
    "X = data.data[:, [p1, p2]]\n",
    "X = X + (np.random.uniform(size = X.shape)-0.5)/2\n",
    "Y = data.target"
   ]
  },
  {
   "cell_type": "code",
   "execution_count": null,
   "metadata": {
    "collapsed": false
   },
   "outputs": [],
   "source": [
    "X.shape"
   ]
  },
  {
   "cell_type": "code",
   "execution_count": null,
   "metadata": {
    "collapsed": false
   },
   "outputs": [],
   "source": [
    "# afficher les points\n",
    "plt.scatter(X[:,0], X[:,1], c=data.target, marker='x')\n",
    "plt.show()"
   ]
  },
  {
   "cell_type": "markdown",
   "metadata": {
    "collapsed": true
   },
   "source": [
    "- on utilise sklearn\n",
    "- on fait une « regression logistique multiclasses »"
   ]
  },
  {
   "cell_type": "code",
   "execution_count": null,
   "metadata": {
    "collapsed": false
   },
   "outputs": [],
   "source": [
    "from sklearn.linear_model import LogisticRegression\n",
    "\n",
    "print(X.shape, Y.shape)\n",
    "model = LogisticRegression()\n",
    "model.fit(X, Y)"
   ]
  },
  {
   "cell_type": "code",
   "execution_count": null,
   "metadata": {
    "collapsed": false
   },
   "outputs": [],
   "source": [
    "# on utilise une fonction utilitaire qui affiche les frontières (apprises) entres classes\n",
    "outils.render2dmodel(model, X, Y)"
   ]
  },
  {
   "cell_type": "markdown",
   "metadata": {},
   "source": [
    "- on voit qu'avec 2 pixels bien choisis, on peu ne faire que 51 erreurs (sur l'ensemble d'apprentissage)\n",
    "- on va essayer une regression de 64 pixels vers la classe"
   ]
  },
  {
   "cell_type": "code",
   "execution_count": null,
   "metadata": {
    "collapsed": false
   },
   "outputs": [],
   "source": [
    "X = data.data\n",
    "X = X + (np.random.uniform(size = X.shape)-0.5)/2\n",
    "Y = data.target\n",
    "\n",
    "print(X.shape, Y.shape)\n",
    "model = LogisticRegression()\n",
    "model.fit(X, Y)\n",
    "print(\"Erreur d'entraînement :\", np.sum(model.predict(X) != Y))\n",
    "print(\"Attention au sur-apprentissage !\")"
   ]
  }
 ],
 "metadata": {
  "kernelspec": {
   "display_name": "Python 3",
   "language": "python",
   "name": "python3"
  },
  "language_info": {
   "codemirror_mode": {
    "name": "ipython",
    "version": 3
   },
   "file_extension": ".py",
   "mimetype": "text/x-python",
   "name": "python",
   "nbconvert_exporter": "python",
   "pygments_lexer": "ipython3",
   "version": "3.5.2"
  }
 },
 "nbformat": 4,
 "nbformat_minor": 1
}
