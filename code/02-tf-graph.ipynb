{
 "cells": [
  {
   "cell_type": "code",
   "execution_count": null,
   "metadata": {
    "collapsed": true
   },
   "outputs": [],
   "source": [
    "import tensorflow as tf\n",
    "import numpy as np\n",
    "from matplotlib import pyplot as plt\n",
    "import outils\n",
    "%matplotlib inline"
   ]
  },
  {
   "cell_type": "markdown",
   "metadata": {
    "collapsed": true
   },
   "source": [
    "\n",
    "## Comprendre les graphes tensorflow"
   ]
  },
  {
   "cell_type": "markdown",
   "metadata": {},
   "source": [
    "- quelques constantes "
   ]
  },
  {
   "cell_type": "code",
   "execution_count": null,
   "metadata": {
    "collapsed": true
   },
   "outputs": [],
   "source": [
    "N = 1000 # nombre de points\n",
    "D = 10 # nombre de caractéristiques"
   ]
  },
  {
   "cell_type": "markdown",
   "metadata": {},
   "source": [
    "- un exemple en numpy (sans graphe de calcul)"
   ]
  },
  {
   "cell_type": "code",
   "execution_count": null,
   "metadata": {
    "collapsed": false
   },
   "outputs": [],
   "source": [
    "def classic_numpy():\n",
    "    # numpy classique\n",
    "    x = np.random.randn(N, D) # données au hasard... pour l'exemple\n",
    "    w = np.random.randn(D)    # poids au hasard\n",
    "    b = np.random.randn(1)    # biais au hasard\n",
    "\n",
    "    ypred = np.sum(w*x, axis=1) + b\n",
    "\n",
    "    print(ypred.shape)  # une valeur prédite par entrée (N)\n",
    "    print(ypred[:15])   # afficher les permieres valeurs\n",
    "\n",
    "classic_numpy()"
   ]
  },
  {
   "cell_type": "markdown",
   "metadata": {},
   "source": [
    "----\n",
    "\n",
    "----\n",
    "\n",
    "----\n",
    "\n",
    "- maintenant, un exemple en tensorflow\n",
    "- l'exemple ne calcule pas mais crée un graphe de calcul abstrait"
   ]
  },
  {
   "cell_type": "code",
   "execution_count": null,
   "metadata": {
    "collapsed": false
   },
   "outputs": [],
   "source": [
    "x = tf.placeholder(tf.float32, shape=[None, D])        # entréees\n",
    "w = tf.Variable(tf.truncated_normal([D], stddev=0.05)) # poids\n",
    "b = tf.Variable(tf.constant(0.05, shape=[1]))          # biais\n",
    "\n",
    "ypred = tf.reduce_sum(x * w, axis=1) + b\n",
    "\n",
    "print(ypred.shape)\n",
    "print()"
   ]
  },
  {
   "cell_type": "markdown",
   "metadata": {},
   "source": [
    "- le « ? » correspond à une dimension inconnue\n",
    "- c'est l'équivalent du « None » passé en paramètres\n",
    "- c'est en fait la taille de l'échantillon d'expmelse qu'on lui passera en entrée"
   ]
  },
  {
   "cell_type": "markdown",
   "metadata": {},
   "source": [
    "- on va maintenant calculer des valeurs grâce au graphe de calcul"
   ]
  },
  {
   "cell_type": "code",
   "execution_count": null,
   "metadata": {
    "collapsed": false
   },
   "outputs": [],
   "source": [
    "X = np.random.randn(N, D)  # données au hasard...\n",
    "\n",
    "with tf.Session() as sess:\n",
    "    # initialiser les variables (grace au graphe potentiellement optimisé)\n",
    "    tf.global_variables_initializer().run()\n",
    "    # évaluer une variables\n",
    "    res = sess.run(ypred, feed_dict={ x: X })  # calcule \"ypred\" sachant que \"x\" vaut \"X\"\n",
    "    \n",
    "    print(res.shape)\n",
    "    print(res[:15])"
   ]
  },
  {
   "cell_type": "markdown",
   "metadata": {},
   "source": [
    "## À Vous !\n",
    "\n",
    "- calculer l'erreur totale $err = \\sum_i (y^i - y_{pred}^i)^2$ (aide : ne pas faire de boucle)\n",
    "- évaluer cette erreur sur les données random $X$\n",
    "- vérifier éventuellement les tailles (shape)"
   ]
  },
  {
   "cell_type": "code",
   "execution_count": null,
   "metadata": {
    "collapsed": false
   },
   "outputs": [],
   "source": [
    "\n",
    "\n"
   ]
  },
  {
   "cell_type": "markdown",
   "metadata": {
    "collapsed": true
   },
   "source": [
    "Pour l'aspect optimisation (trouver les meilleurs w et b), voir la suite des slides et le notebook suivant."
   ]
  }
 ],
 "metadata": {
  "kernelspec": {
   "display_name": "Python 3",
   "language": "python",
   "name": "python3"
  },
  "language_info": {
   "codemirror_mode": {
    "name": "ipython",
    "version": 3
   },
   "file_extension": ".py",
   "mimetype": "text/x-python",
   "name": "python",
   "nbconvert_exporter": "python",
   "pygments_lexer": "ipython3",
   "version": "3.5.2"
  }
 },
 "nbformat": 4,
 "nbformat_minor": 1
}
