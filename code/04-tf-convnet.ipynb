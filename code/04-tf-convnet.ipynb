{
 "cells": [
  {
   "cell_type": "code",
   "execution_count": null,
   "metadata": {
    "collapsed": true
   },
   "outputs": [],
   "source": [
    "import tensorflow as tf\n",
    "import numpy as np\n",
    "from matplotlib import pyplot as plt\n",
    "import outils\n",
    "%matplotlib inline"
   ]
  },
  {
   "cell_type": "markdown",
   "metadata": {},
   "source": [
    "## Réseau de Convolution avec Tensorflow\n",
    "\n",
    "https://www.tensorflow.org/get_started/mnist/pros"
   ]
  },
  {
   "cell_type": "markdown",
   "metadata": {},
   "source": [
    "- on reprends le cas des chiffres manuscrits de MNIST\n",
    "- mais on va utiliser des convolutions\n",
    "- on se limite à un réseau plus simple que le tutorial"
   ]
  },
  {
   "cell_type": "code",
   "execution_count": null,
   "metadata": {
    "collapsed": false
   },
   "outputs": [],
   "source": [
    "from tensorflow.examples.tutorials.mnist import input_data\n",
    "mnist = input_data.read_data_sets(\"MNIST_data/\", one_hot=True)\n",
    "# cela télécharge MNIST au besoin"
   ]
  },
  {
   "cell_type": "code",
   "execution_count": null,
   "metadata": {
    "collapsed": true
   },
   "outputs": [],
   "source": [
    "NC = 10  # nombre de classes\n",
    "D = 784  # dimension de l'espace d'entrée (images de 28x28)"
   ]
  },
  {
   "cell_type": "code",
   "execution_count": null,
   "metadata": {
    "collapsed": false
   },
   "outputs": [],
   "source": [
    "# entree\n",
    "x = tf.placeholder(tf.float32, [None, D])\n",
    "x_image = tf.reshape(x, [-1,28,28,1])     # remettre les images en 2D (batch, x, y, features)\n",
    "\n",
    "def convrelu(X, fr, to):\n",
    "    w = tf.Variable(tf.truncated_normal([3,3, fr, to], stddev=0.05))\n",
    "    b = tf.Variable(tf.truncated_normal([to], stddev=0.05))\n",
    "    c = tf.nn.conv2d(X, w, [1, 1,1, 1], \"VALID\")\n",
    "    o = tf.nn.relu(tf.nn.max_pool(c + b, [1,2,2,1], [1,2,2,1], \"VALID\"))\n",
    "    return w,b,o\n",
    "\n",
    "def fc(X, to, relu=True):\n",
    "    fr = int(X.shape[1])\n",
    "    w = tf.Variable(tf.truncated_normal([fr, to], stddev=0.05))\n",
    "    b = tf.Variable(tf.zeros([to]))\n",
    "    o = tf.matmul(X, w) + b\n",
    "    if relu:\n",
    "        o = tf.nn.relu(o)\n",
    "    return w,b,o\n",
    "\n",
    "\n",
    "# model à deux couches\n",
    "NF1 = 16\n",
    "NF2 = 128\n",
    "\n",
    "_,_, o1 = convrelu(x_image, 1, NF1)\n",
    "_,_, o2 = convrelu(o1, NF1, NF2)\n",
    "_,_, o3 = convrelu(o2, NF2, NF2)\n",
    "\n",
    "# converge avec un tout-connecté\n",
    "o = o3\n",
    "NPRE = int(np.prod(o.shape[1:]))\n",
    "print(o.shape, NPRE)\n",
    "\n",
    "_,_,fc1 = fc(tf.reshape(o, [-1, NPRE]), 100)\n",
    "_,_,fc2 = fc(fc1, NC, relu=False)\n",
    "\n",
    "y = fc2"
   ]
  },
  {
   "cell_type": "code",
   "execution_count": null,
   "metadata": {
    "collapsed": true
   },
   "outputs": [],
   "source": [
    "# étiquette cible\n",
    "y_ = tf.placeholder(tf.float32, [None, NC])\n",
    "\n",
    "# fonction de perte (sorte de maximisation de la probabilité prédite par le réseau)\n",
    "cross_entropy = tf.reduce_mean( tf.nn.softmax_cross_entropy_with_logits(labels=y_, logits=y))\n",
    "\n",
    "# optimiseur\n",
    "train_step = tf.train.GradientDescentOptimizer(0.25).minimize(cross_entropy)"
   ]
  },
  {
   "cell_type": "code",
   "execution_count": null,
   "metadata": {
    "collapsed": false
   },
   "outputs": [],
   "source": [
    "with tf.Session() as sess:\n",
    "    tf.global_variables_initializer().run()\n",
    "\n",
    "    # Entrainement\n",
    "    for iteration in range(1000):\n",
    "        # traiter les exemples 100 par 100 (« Stochastic Gradient Descent »)\n",
    "        batch_xs, batch_ys = mnist.train.next_batch(100)\n",
    "        sess.run(train_step, feed_dict={x: batch_xs, y_: batch_ys})\n",
    "\n",
    "    # Tester le model appris\n",
    "    correct_prediction = tf.equal(tf.argmax(y, 1), tf.argmax(y_, 1))\n",
    "    accuracy = tf.reduce_mean(tf.cast(correct_prediction, tf.float32))\n",
    "\n",
    "    print(\"Precision entrainement :\", sess.run(accuracy, feed_dict={x: mnist.train.images, y_: mnist.train.labels}))\n",
    "    print(\"Precision test :\", sess.run(accuracy, feed_dict={x: mnist.test.images, y_: mnist.test.labels}))\n"
   ]
  },
  {
   "cell_type": "markdown",
   "metadata": {},
   "source": [
    "### À Vous\n",
    "- reprendre ou modifier le code ci dessus\n",
    "- faire que la couche cachée aie 30 unités (neurones)\n",
    "- calculer l'accuracy\n",
    "- ajouter une activation/non-linéarité `tf.nn.relu` à la sortie de la couche cachée\n",
    "- calculer l'accuracy\n",
    "- ajouter une couche cachée avec 25 unités et une ReLU\n",
    "- calculer l'accuracy"
   ]
  },
  {
   "cell_type": "code",
   "execution_count": null,
   "metadata": {
    "collapsed": true
   },
   "outputs": [],
   "source": []
  }
 ],
 "metadata": {
  "kernelspec": {
   "display_name": "Python 3",
   "language": "python",
   "name": "python3"
  },
  "language_info": {
   "codemirror_mode": {
    "name": "ipython",
    "version": 3
   },
   "file_extension": ".py",
   "mimetype": "text/x-python",
   "name": "python",
   "nbconvert_exporter": "python",
   "pygments_lexer": "ipython3",
   "version": "3.5.2"
  }
 },
 "nbformat": 4,
 "nbformat_minor": 1
}
