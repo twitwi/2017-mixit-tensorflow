{
 "cells": [
  {
   "cell_type": "code",
   "execution_count": null,
   "metadata": {
    "collapsed": true
   },
   "outputs": [],
   "source": [
    "import tensorflow as tf\n",
    "import numpy as np\n",
    "from matplotlib import pyplot as plt\n",
    "import outils\n",
    "%matplotlib inline"
   ]
  },
  {
   "cell_type": "markdown",
   "metadata": {},
   "source": [
    "## Classification avec Tensorflow\n",
    "\n",
    "https://www.tensorflow.org/get_started/mnist/beginners"
   ]
  },
  {
   "cell_type": "markdown",
   "metadata": {},
   "source": [
    "- on va charger un autre jeu de chiffres manuscrits (un peu plus grand), très connu : MNIST\n",
    "- le jeu de donné est proprement découpé en train/validation/test\n",
    "- cela permet de mesurer les capacités de généralisation à des nouvelles données,\n",
    "- et d'éviter / mesurer le sur-apprentissage\n"
   ]
  },
  {
   "cell_type": "code",
   "execution_count": null,
   "metadata": {
    "collapsed": false
   },
   "outputs": [],
   "source": [
    "from tensorflow.examples.tutorials.mnist import input_data\n",
    "mnist = input_data.read_data_sets(\"MNIST_data/\", one_hot=True)\n",
    "# cela télécharge MNIST au besoin"
   ]
  },
  {
   "cell_type": "markdown",
   "metadata": {},
   "source": [
    "- on va regarder l'annotation d'un des exemples, pour comprendre le « one_hot » ci dessus"
   ]
  },
  {
   "cell_type": "code",
   "execution_count": null,
   "metadata": {
    "collapsed": false
   },
   "outputs": [],
   "source": [
    "print(\"Entrées (entrainement) :\", mnist.train.images.shape)\n",
    "print(\"Étiquettes (entrainement) :\", mnist.train.labels.shape)\n",
    "print(mnist.train.labels[0])\n",
    "print()\n",
    "print(\"Entrées (test) :\", mnist.test.images.shape)"
   ]
  },
  {
   "cell_type": "markdown",
   "metadata": {},
   "source": [
    "### QUESTION : que semble signifier one_hot ?"
   ]
  },
  {
   "cell_type": "markdown",
   "metadata": {},
   "source": [
    "----"
   ]
  },
  {
   "cell_type": "code",
   "execution_count": null,
   "metadata": {
    "collapsed": true
   },
   "outputs": [],
   "source": [
    "NC = 10  # nombre de classes\n",
    "D = 784  # dimension de l'espace d'entrée (images de 28x28)"
   ]
  },
  {
   "cell_type": "code",
   "execution_count": null,
   "metadata": {
    "collapsed": true
   },
   "outputs": [],
   "source": [
    "# entree\n",
    "x = tf.placeholder(tf.float32, [None, D])\n",
    "\n",
    "# model à deux couches\n",
    "NH1 = 10 # taille de la couche cachée\n",
    "\n",
    "W1 = tf.Variable(tf.truncated_normal([D, NH1], stddev=0.05))\n",
    "b1 = tf.Variable(tf.zeros([NH1]))\n",
    "o1 =  tf.matmul(x, W1) + b1  # pas d'activation !\n",
    "\n",
    "W2 = tf.Variable(tf.truncated_normal([NH1, NC], stddev=0.05))\n",
    "b2 = tf.Variable(tf.zeros([NC]))\n",
    "o2 =  tf.matmul(o1, W2) + b2  # pas d'activation !\n",
    "\n",
    "y = o2  # prediction"
   ]
  },
  {
   "cell_type": "code",
   "execution_count": null,
   "metadata": {
    "collapsed": true
   },
   "outputs": [],
   "source": [
    "# étiquette cible\n",
    "y_ = tf.placeholder(tf.float32, [None, NC])\n",
    "\n",
    "# fonction de perte (sorte de maximisation de la probabilité prédite par le réseau)\n",
    "cross_entropy = tf.reduce_mean( tf.nn.softmax_cross_entropy_with_logits(labels=y_, logits=y))\n",
    "\n",
    "# optimiseur\n",
    "train_step = tf.train.GradientDescentOptimizer(0.25).minimize(cross_entropy)"
   ]
  },
  {
   "cell_type": "code",
   "execution_count": null,
   "metadata": {
    "collapsed": false
   },
   "outputs": [],
   "source": [
    "with tf.Session() as sess:\n",
    "    tf.global_variables_initializer().run()\n",
    "\n",
    "    # Entrainement\n",
    "    for iteration in range(1000):\n",
    "        # traiter les exemples 100 par 100 (« Stochastic Gradient Descent »)\n",
    "        batch_xs, batch_ys = mnist.train.next_batch(100)\n",
    "        sess.run(train_step, feed_dict={x: batch_xs, y_: batch_ys})\n",
    "\n",
    "    # Tester le model appris\n",
    "    correct_prediction = tf.equal(tf.argmax(y, 1), tf.argmax(y_, 1))\n",
    "    accuracy = tf.reduce_mean(tf.cast(correct_prediction, tf.float32))\n",
    "\n",
    "    print(\"Accuracy d'entrainement :\", sess.run(accuracy, feed_dict={x: mnist.train.images, y_: mnist.train.labels}))\n",
    "    print(\"Accurucy en test :\", sess.run(accuracy, feed_dict={x: mnist.test.images, y_: mnist.test.labels}))\n"
   ]
  },
  {
   "cell_type": "markdown",
   "metadata": {},
   "source": [
    "### À Vous d'expérimenter, par exemple\n",
    "- reprendre ou modifier le code ci dessus\n",
    "- faire que la couche cachée aie 30 unités (neurones)\n",
    "- calculer l'accuracy\n",
    "- ajouter une activation/non-linéarité `tf.nn.relu` à la sortie de la couche cachée\n",
    "- calculer l'accuracy\n",
    "- ajouter une couche cachée avec 25 unités et une ReLU\n",
    "- calculer l'accuracy"
   ]
  },
  {
   "cell_type": "code",
   "execution_count": null,
   "metadata": {
    "collapsed": true
   },
   "outputs": [],
   "source": []
  }
 ],
 "metadata": {
  "kernelspec": {
   "display_name": "Python 3",
   "language": "python",
   "name": "python3"
  },
  "language_info": {
   "codemirror_mode": {
    "name": "ipython",
    "version": 3
   },
   "file_extension": ".py",
   "mimetype": "text/x-python",
   "name": "python",
   "nbconvert_exporter": "python",
   "pygments_lexer": "ipython3",
   "version": "3.5.2"
  }
 },
 "nbformat": 4,
 "nbformat_minor": 1
}
